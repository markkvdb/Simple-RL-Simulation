{
 "cells": [
  {
   "cell_type": "markdown",
   "metadata": {},
   "source": [
    "# Simple Simulation Analysis\n",
    "\n",
    "In this notebook I will analyse the output of a simple simulation. First, I load the output data of the two stations."
   ]
  },
  {
   "cell_type": "code",
   "execution_count": 1,
   "metadata": {},
   "outputs": [],
   "source": [
    "%matplotlib inline\n",
    "\n",
    "import sys\n",
    "sys.path.append('../')\n",
    "\n",
    "import numpy as np\n",
    "import matplotlib.pyplot as plt\n",
    "import pandas as pd\n",
    "import seaborn as sns\n",
    "\n",
    "from model.sim_components import Simulator"
   ]
  },
  {
   "cell_type": "markdown",
   "metadata": {},
   "source": [
    "## Run simulations\n",
    "\n",
    "Run the simulation for several settings for the batch sizes and rates"
   ]
  },
  {
   "cell_type": "code",
   "execution_count": 2,
   "metadata": {},
   "outputs": [
    {
     "name": "stderr",
     "output_type": "stream",
     "text": [
      "100%|██████████| 2000/2000 [00:04<00:00, 473.90it/s]\n"
     ]
    }
   ],
   "source": [
    "# Common settings of the simulation\n",
    "sim_time = 20\n",
    "time_delta = 0.01\n",
    "\n",
    "# Settings dict\n",
    "settings = {}\n",
    "settings['demand_rate'] = 1\n",
    "settings['repair_rate'] = 2\n",
    "settings['Q_service'] = 2\n",
    "settings['Q_repair'] = 4\n",
    "settings['S_depot'] = 2\n",
    "settings['S_warehouse'] = 1\n",
    "\n",
    "demand_rates = [1]\n",
    "repair_rates = [2]\n",
    "s_services = [2]\n",
    "\n",
    "\n",
    "# Initialise empty dataframe\n",
    "sim_dfs = pd.DataFrame()\n",
    "\n",
    "# Create and run simulator for all settings\n",
    "for demand_rate in demand_rates:\n",
    "    for repair_rate in repair_rates:\n",
    "        for s_service in s_services:\n",
    "            # Set parameters\n",
    "            settings['demand_rate'] = demand_rate\n",
    "            settings['repair_rate'] = repair_rate\n",
    "            settings['S_depot'] = s_service\n",
    "            \n",
    "            # Run simulation\n",
    "            simulator = Simulator(time_delta, sim_time, settings)\n",
    "            simulator.run()\n",
    "            \n",
    "            # Save output to master data frame\n",
    "            sim_data = simulator.create_output_df()\n",
    "            for setting, value in settings.items():\n",
    "                sim_data[setting] = value\n",
    "                \n",
    "            sim_dfs = sim_dfs.append(sim_data)\n",
    "            \n",
    "# Change time column\n",
    "sim_dfs.time = sim_dfs.time * time_delta"
   ]
  },
  {
   "cell_type": "markdown",
   "metadata": {},
   "source": [
    "## Visualisation of stock over time\n",
    "\n",
    "The stock levels of the repairable and servicable units are recorded over time. Let's check these."
   ]
  },
  {
   "cell_type": "code",
   "execution_count": 3,
   "metadata": {},
   "outputs": [
    {
     "data": {
      "text/html": [
       "<div>\n",
       "<style scoped>\n",
       "    .dataframe tbody tr th:only-of-type {\n",
       "        vertical-align: middle;\n",
       "    }\n",
       "\n",
       "    .dataframe tbody tr th {\n",
       "        vertical-align: top;\n",
       "    }\n",
       "\n",
       "    .dataframe thead th {\n",
       "        text-align: right;\n",
       "    }\n",
       "</style>\n",
       "<table border=\"1\" class=\"dataframe\">\n",
       "  <thead>\n",
       "    <tr style=\"text-align: right;\">\n",
       "      <th></th>\n",
       "      <th>service_stock_depot</th>\n",
       "      <th>service_orders</th>\n",
       "      <th>service_back_orders</th>\n",
       "      <th>service_stock_position</th>\n",
       "      <th>repair_stock_depot</th>\n",
       "      <th>time</th>\n",
       "      <th>service_stock_warehouse</th>\n",
       "      <th>repair_stock_warehouse</th>\n",
       "      <th>repair_shipment</th>\n",
       "      <th>service_order</th>\n",
       "      <th>...</th>\n",
       "      <th>hold_cost_serviceables</th>\n",
       "      <th>back_cost_serviceables</th>\n",
       "      <th>hold_cost_repairables</th>\n",
       "      <th>costs</th>\n",
       "      <th>demand_rate</th>\n",
       "      <th>repair_rate</th>\n",
       "      <th>Q_service</th>\n",
       "      <th>Q_repair</th>\n",
       "      <th>S_depot</th>\n",
       "      <th>S_warehouse</th>\n",
       "    </tr>\n",
       "  </thead>\n",
       "  <tbody>\n",
       "    <tr>\n",
       "      <th>0</th>\n",
       "      <td>1.99</td>\n",
       "      <td>2.0</td>\n",
       "      <td>0.0</td>\n",
       "      <td>3.99</td>\n",
       "      <td>0.01</td>\n",
       "      <td>0.00</td>\n",
       "      <td>1</td>\n",
       "      <td>0</td>\n",
       "      <td>0</td>\n",
       "      <td>0</td>\n",
       "      <td>...</td>\n",
       "      <td>0.0598</td>\n",
       "      <td>0.0</td>\n",
       "      <td>0.0299</td>\n",
       "      <td>2.0897</td>\n",
       "      <td>1</td>\n",
       "      <td>2</td>\n",
       "      <td>2</td>\n",
       "      <td>4</td>\n",
       "      <td>2</td>\n",
       "      <td>1</td>\n",
       "    </tr>\n",
       "    <tr>\n",
       "      <th>1</th>\n",
       "      <td>1.98</td>\n",
       "      <td>2.0</td>\n",
       "      <td>0.0</td>\n",
       "      <td>3.98</td>\n",
       "      <td>0.02</td>\n",
       "      <td>0.01</td>\n",
       "      <td>1</td>\n",
       "      <td>0</td>\n",
       "      <td>0</td>\n",
       "      <td>0</td>\n",
       "      <td>...</td>\n",
       "      <td>0.0596</td>\n",
       "      <td>0.0</td>\n",
       "      <td>0.0298</td>\n",
       "      <td>2.0894</td>\n",
       "      <td>1</td>\n",
       "      <td>2</td>\n",
       "      <td>2</td>\n",
       "      <td>4</td>\n",
       "      <td>2</td>\n",
       "      <td>1</td>\n",
       "    </tr>\n",
       "    <tr>\n",
       "      <th>2</th>\n",
       "      <td>1.97</td>\n",
       "      <td>2.0</td>\n",
       "      <td>0.0</td>\n",
       "      <td>3.97</td>\n",
       "      <td>0.03</td>\n",
       "      <td>0.02</td>\n",
       "      <td>1</td>\n",
       "      <td>0</td>\n",
       "      <td>0</td>\n",
       "      <td>0</td>\n",
       "      <td>...</td>\n",
       "      <td>0.0594</td>\n",
       "      <td>0.0</td>\n",
       "      <td>0.0297</td>\n",
       "      <td>2.0891</td>\n",
       "      <td>1</td>\n",
       "      <td>2</td>\n",
       "      <td>2</td>\n",
       "      <td>4</td>\n",
       "      <td>2</td>\n",
       "      <td>1</td>\n",
       "    </tr>\n",
       "    <tr>\n",
       "      <th>3</th>\n",
       "      <td>1.96</td>\n",
       "      <td>2.0</td>\n",
       "      <td>0.0</td>\n",
       "      <td>3.96</td>\n",
       "      <td>0.04</td>\n",
       "      <td>0.03</td>\n",
       "      <td>1</td>\n",
       "      <td>0</td>\n",
       "      <td>0</td>\n",
       "      <td>0</td>\n",
       "      <td>...</td>\n",
       "      <td>0.0592</td>\n",
       "      <td>0.0</td>\n",
       "      <td>0.0296</td>\n",
       "      <td>2.0888</td>\n",
       "      <td>1</td>\n",
       "      <td>2</td>\n",
       "      <td>2</td>\n",
       "      <td>4</td>\n",
       "      <td>2</td>\n",
       "      <td>1</td>\n",
       "    </tr>\n",
       "    <tr>\n",
       "      <th>4</th>\n",
       "      <td>1.95</td>\n",
       "      <td>2.0</td>\n",
       "      <td>0.0</td>\n",
       "      <td>3.95</td>\n",
       "      <td>0.05</td>\n",
       "      <td>0.04</td>\n",
       "      <td>1</td>\n",
       "      <td>0</td>\n",
       "      <td>0</td>\n",
       "      <td>0</td>\n",
       "      <td>...</td>\n",
       "      <td>0.059</td>\n",
       "      <td>0.0</td>\n",
       "      <td>0.0295</td>\n",
       "      <td>2.0885</td>\n",
       "      <td>1</td>\n",
       "      <td>2</td>\n",
       "      <td>2</td>\n",
       "      <td>4</td>\n",
       "      <td>2</td>\n",
       "      <td>1</td>\n",
       "    </tr>\n",
       "  </tbody>\n",
       "</table>\n",
       "<p>5 rows × 22 columns</p>\n",
       "</div>"
      ],
      "text/plain": [
       "   service_stock_depot  service_orders  service_back_orders  \\\n",
       "0                 1.99             2.0                  0.0   \n",
       "1                 1.98             2.0                  0.0   \n",
       "2                 1.97             2.0                  0.0   \n",
       "3                 1.96             2.0                  0.0   \n",
       "4                 1.95             2.0                  0.0   \n",
       "\n",
       "   service_stock_position  repair_stock_depot  time service_stock_warehouse  \\\n",
       "0                    3.99                0.01  0.00                       1   \n",
       "1                    3.98                0.02  0.01                       1   \n",
       "2                    3.97                0.03  0.02                       1   \n",
       "3                    3.96                0.04  0.03                       1   \n",
       "4                    3.95                0.05  0.04                       1   \n",
       "\n",
       "  repair_stock_warehouse  repair_shipment  service_order  ...  \\\n",
       "0                      0                0              0  ...   \n",
       "1                      0                0              0  ...   \n",
       "2                      0                0              0  ...   \n",
       "3                      0                0              0  ...   \n",
       "4                      0                0              0  ...   \n",
       "\n",
       "   hold_cost_serviceables  back_cost_serviceables hold_cost_repairables  \\\n",
       "0                  0.0598                     0.0                0.0299   \n",
       "1                  0.0596                     0.0                0.0298   \n",
       "2                  0.0594                     0.0                0.0297   \n",
       "3                  0.0592                     0.0                0.0296   \n",
       "4                   0.059                     0.0                0.0295   \n",
       "\n",
       "    costs demand_rate repair_rate  Q_service  Q_repair  S_depot  S_warehouse  \n",
       "0  2.0897           1           2          2         4        2            1  \n",
       "1  2.0894           1           2          2         4        2            1  \n",
       "2  2.0891           1           2          2         4        2            1  \n",
       "3  2.0888           1           2          2         4        2            1  \n",
       "4  2.0885           1           2          2         4        2            1  \n",
       "\n",
       "[5 rows x 22 columns]"
      ]
     },
     "execution_count": 3,
     "metadata": {},
     "output_type": "execute_result"
    }
   ],
   "source": [
    "# Get a feeling for the data\n",
    "sim_dfs.head()"
   ]
  },
  {
   "cell_type": "code",
   "execution_count": 4,
   "metadata": {},
   "outputs": [
    {
     "data": {
      "text/plain": [
       "[<matplotlib.lines.Line2D at 0x1a23638ac8>]"
      ]
     },
     "execution_count": 4,
     "metadata": {},
     "output_type": "execute_result"
    },
    {
     "data": {
      "image/png": "[encoded data removed]",
      "text/plain": [
       "<Figure size 432x288 with 1 Axes>"
      ]
     },
     "metadata": {
      "needs_background": "light"
     },
     "output_type": "display_data"
    }
   ],
   "source": [
    "plt.plot(sim_dfs['time'], sim_dfs['service_stock_depot'])"
   ]
  },
  {
   "cell_type": "code",
   "execution_count": 5,
   "metadata": {},
   "outputs": [
    {
     "data": {
      "text/plain": [
       "<seaborn.axisgrid.FacetGrid at 0x1a231f6ac8>"
      ]
     },
     "execution_count": 5,
     "metadata": {},
     "output_type": "execute_result"
    },
    {
     "data": {
      "image/png": "[encoded data removed]",
      "text/plain": [
       "<Figure size 810.875x216 with 1 Axes>"
      ]
     },
     "metadata": {
      "needs_background": "light"
     },
     "output_type": "display_data"
    }
   ],
   "source": [
    "# Get all relevant inventory level variables\n",
    "# Create long format\n",
    "inventory_data = sim_dfs.melt(value_vars=['service_stock_depot', 'service_stock_position', 'service_back_orders', \n",
    "                                          'repair_stock_depot', 'service_stock_warehouse', 'repair_stock_warehouse'], \n",
    "                              id_vars=['time'] + list(settings.keys()),\n",
    "                              value_name='inventory_level', var_name='inventory_type'\n",
    "                              )\n",
    "\n",
    "# Plot lines over time \n",
    "g = sns.FacetGrid(inventory_data[inventory_data.time >= 0], col='Q_repair', col_wrap=1, hue='inventory_type', aspect=3, sharey=False)\n",
    "\n",
    "# Plot lines\n",
    "g.map(plt.plot, 'time', 'inventory_level').add_legend().set_axis_labels('Time', 'Inventory level')"
   ]
  },
  {
   "cell_type": "markdown",
   "metadata": {},
   "source": [
    "## Compute the average cycle cost\n",
    "\n",
    "In this simple model, we assume that sending a batch from the warehouse to the depot has a cost `c_d` and sending a batch of repairable units from the depot to the warehouse costs `c_r`. In general we have that `c_r` > `c_d`, since the reverse flow is typically less efficient. Besides, set-up costs for orders, a holding costs of `h_d` per unit per unit of time for stock of servicable units at the depot has to be paid. In case of a shortage, a backlogging cost of `b_d` per unit per unit of time is incurred. For now, I do not assume any holding cost for the repairable units."
   ]
  },
  {
   "cell_type": "code",
   "execution_count": 6,
   "metadata": {},
   "outputs": [
    {
     "data": {
      "text/html": [
       "<div>\n",
       "<style scoped>\n",
       "    .dataframe tbody tr th:only-of-type {\n",
       "        vertical-align: middle;\n",
       "    }\n",
       "\n",
       "    .dataframe tbody tr th {\n",
       "        vertical-align: top;\n",
       "    }\n",
       "\n",
       "    .dataframe thead th {\n",
       "        text-align: right;\n",
       "    }\n",
       "</style>\n",
       "<table border=\"1\" class=\"dataframe\">\n",
       "  <thead>\n",
       "    <tr style=\"text-align: right;\">\n",
       "      <th></th>\n",
       "      <th></th>\n",
       "      <th></th>\n",
       "      <th></th>\n",
       "      <th></th>\n",
       "      <th></th>\n",
       "      <th>costs</th>\n",
       "    </tr>\n",
       "    <tr>\n",
       "      <th>demand_rate</th>\n",
       "      <th>repair_rate</th>\n",
       "      <th>Q_service</th>\n",
       "      <th>Q_repair</th>\n",
       "      <th>S_depot</th>\n",
       "      <th>S_warehouse</th>\n",
       "      <th></th>\n",
       "    </tr>\n",
       "  </thead>\n",
       "  <tbody>\n",
       "    <tr>\n",
       "      <th>1</th>\n",
       "      <th>2</th>\n",
       "      <th>2</th>\n",
       "      <th>4</th>\n",
       "      <th>2</th>\n",
       "      <th>1</th>\n",
       "      <td>4.233567</td>\n",
       "    </tr>\n",
       "  </tbody>\n",
       "</table>\n",
       "</div>"
      ],
      "text/plain": [
       "                                                                   costs\n",
       "demand_rate repair_rate Q_service Q_repair S_depot S_warehouse          \n",
       "1           2           2         4        2       1            4.233567"
      ]
     },
     "execution_count": 6,
     "metadata": {},
     "output_type": "execute_result"
    }
   ],
   "source": [
    "# Transform data types to float\n",
    "sim_dfs.costs = sim_dfs.costs.astype(float)\n",
    "\n",
    "# Total avg cost of simulation\n",
    "sim_dfs.groupby(list(settings.keys())).agg({'costs':'mean'})"
   ]
  },
  {
   "cell_type": "markdown",
   "metadata": {},
   "source": [
    "### Average inventory levels per cycle"
   ]
  },
  {
   "cell_type": "code",
   "execution_count": 15,
   "metadata": {},
   "outputs": [
    {
     "data": {
      "text/plain": [
       "service_stock_depot        float64\n",
       "service_stock_position     float64\n",
       "repair_stock_depot         float64\n",
       "time                       float64\n",
       "service_stock_warehouse     object\n",
       "repair_stock_warehouse      object\n",
       "repair_shipment              int64\n",
       "service_order                int64\n",
       "order_cost_service           int64\n",
       "order_cost_repair            int64\n",
       "hold_cost_serviceables      object\n",
       "back_cost_serviceables     float64\n",
       "hold_cost_repairables       object\n",
       "costs                       object\n",
       "demand_rate                  int64\n",
       "repair_rate                  int64\n",
       "Q_service                    int64\n",
       "Q_repair                     int64\n",
       "S_depot                      int64\n",
       "S_warehouse                  int64\n",
       "dtype: object"
      ]
     },
     "execution_count": 15,
     "metadata": {},
     "output_type": "execute_result"
    }
   ],
   "source": [
    "sim_dfs.dtypes"
   ]
  },
  {
   "cell_type": "code",
   "execution_count": null,
   "metadata": {},
   "outputs": [],
   "source": []
  }
 ],
 "metadata": {
  "kernelspec": {
   "display_name": "Python 3",
   "language": "python",
   "name": "python3"
  },
  "language_info": {
   "codemirror_mode": {
    "name": "ipython",
    "version": 3
   },
   "file_extension": ".py",
   "mimetype": "text/x-python",
   "name": "python",
   "nbconvert_exporter": "python",
   "pygments_lexer": "ipython3",
   "version": "3.7.3"
  }
 },
 "nbformat": 4,
 "nbformat_minor": 2
}
