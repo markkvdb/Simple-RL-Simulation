{
 "cells": [
  {
   "cell_type": "markdown",
   "metadata": {},
   "source": [
    "# Simple Simulation Analysis\n",
    "\n",
    "In this notebook I will analyse the output of a simple simulation. First, I load the output data of the two stations."
   ]
  },
  {
   "cell_type": "code",
   "execution_count": 1,
   "metadata": {},
   "outputs": [],
   "source": [
    "%matplotlib inline\n",
    "\n",
    "import sys\n",
    "sys.path.append('../')\n",
    "\n",
    "import numpy as np\n",
    "import matplotlib.pyplot as plt\n",
    "import pandas as pd\n",
    "import seaborn as sns\n",
    "\n",
    "from model.sim_components import Simulator, Depot, Warehouse"
   ]
  },
  {
   "cell_type": "markdown",
   "metadata": {},
   "source": [
    "## Run simulations\n",
    "\n",
    "Run the simulation for several settings for the batch sizes and rates"
   ]
  },
  {
   "cell_type": "code",
   "execution_count": 2,
   "metadata": {},
   "outputs": [
    {
     "name": "stderr",
     "output_type": "stream",
     "text": [
      "100%|██████████| 2000/2000 [00:03<00:00, 500.97it/s]\n"
     ]
    }
   ],
   "source": [
    "# Common settings of the simulation\n",
    "sim_time = 20\n",
    "time_delta = 0.01\n",
    "\n",
    "# Settings dict\n",
    "settings = {}\n",
    "settings['demand_rate'] = 1\n",
    "settings['repair_rate'] = 100000\n",
    "settings['Q_service'] = 2\n",
    "settings['Q_repair'] = 4\n",
    "settings['R_service'] = 2\n",
    "\n",
    "demand_rates = [1]\n",
    "repair_rates = [100000]\n",
    "r_services = [2]\n",
    "\n",
    "\n",
    "# Initialise empty dataframe\n",
    "sim_dfs = pd.DataFrame()\n",
    "\n",
    "# Create and run simulator for all settings\n",
    "for demand_rate in demand_rates:\n",
    "    for repair_rate in repair_rates:\n",
    "        for r_service in r_services:\n",
    "            # Set parameters\n",
    "            settings['demand_rate'] = demand_rate\n",
    "            settings['repair_rate'] = repair_rate\n",
    "            settings['R_service'] = r_service\n",
    "            \n",
    "            # Run simulation\n",
    "            simulator = Simulator(time_delta, sim_time, settings)\n",
    "            simulator.run()\n",
    "            \n",
    "            # Save output to master data frame\n",
    "            sim_data = simulator.create_output_df()\n",
    "            for setting, value in settings.items():\n",
    "                sim_data[setting] = value\n",
    "                \n",
    "            sim_dfs = sim_dfs.append(sim_data)\n",
    "            \n",
    "# Change time column\n",
    "sim_dfs.time = sim_dfs.time * time_delta"
   ]
  },
  {
   "cell_type": "markdown",
   "metadata": {},
   "source": [
    "## Visualisation of stock over time\n",
    "\n",
    "The stock levels of the repairable and servicable units are recorded over time. Let's check these."
   ]
  },
  {
   "cell_type": "code",
   "execution_count": 3,
   "metadata": {},
   "outputs": [
    {
     "data": {
      "text/html": [
       "<div>\n",
       "<style scoped>\n",
       "    .dataframe tbody tr th:only-of-type {\n",
       "        vertical-align: middle;\n",
       "    }\n",
       "\n",
       "    .dataframe tbody tr th {\n",
       "        vertical-align: top;\n",
       "    }\n",
       "\n",
       "    .dataframe thead th {\n",
       "        text-align: right;\n",
       "    }\n",
       "</style>\n",
       "<table border=\"1\" class=\"dataframe\">\n",
       "  <thead>\n",
       "    <tr style=\"text-align: right;\">\n",
       "      <th></th>\n",
       "      <th>time</th>\n",
       "      <th>demand_rate</th>\n",
       "      <th>repair_rate</th>\n",
       "      <th>Q_service</th>\n",
       "      <th>Q_repair</th>\n",
       "      <th>R_service</th>\n",
       "      <th>inventory_type</th>\n",
       "      <th>inventory_level</th>\n",
       "    </tr>\n",
       "  </thead>\n",
       "  <tbody>\n",
       "    <tr>\n",
       "      <td>0</td>\n",
       "      <td>0.00</td>\n",
       "      <td>1</td>\n",
       "      <td>100000</td>\n",
       "      <td>2</td>\n",
       "      <td>4</td>\n",
       "      <td>2</td>\n",
       "      <td>service_stock_depot</td>\n",
       "      <td>9.99</td>\n",
       "    </tr>\n",
       "    <tr>\n",
       "      <td>1</td>\n",
       "      <td>0.01</td>\n",
       "      <td>1</td>\n",
       "      <td>100000</td>\n",
       "      <td>2</td>\n",
       "      <td>4</td>\n",
       "      <td>2</td>\n",
       "      <td>service_stock_depot</td>\n",
       "      <td>9.98</td>\n",
       "    </tr>\n",
       "    <tr>\n",
       "      <td>2</td>\n",
       "      <td>0.02</td>\n",
       "      <td>1</td>\n",
       "      <td>100000</td>\n",
       "      <td>2</td>\n",
       "      <td>4</td>\n",
       "      <td>2</td>\n",
       "      <td>service_stock_depot</td>\n",
       "      <td>9.97</td>\n",
       "    </tr>\n",
       "    <tr>\n",
       "      <td>3</td>\n",
       "      <td>0.03</td>\n",
       "      <td>1</td>\n",
       "      <td>100000</td>\n",
       "      <td>2</td>\n",
       "      <td>4</td>\n",
       "      <td>2</td>\n",
       "      <td>service_stock_depot</td>\n",
       "      <td>9.96</td>\n",
       "    </tr>\n",
       "    <tr>\n",
       "      <td>4</td>\n",
       "      <td>0.04</td>\n",
       "      <td>1</td>\n",
       "      <td>100000</td>\n",
       "      <td>2</td>\n",
       "      <td>4</td>\n",
       "      <td>2</td>\n",
       "      <td>service_stock_depot</td>\n",
       "      <td>9.95</td>\n",
       "    </tr>\n",
       "  </tbody>\n",
       "</table>\n",
       "</div>"
      ],
      "text/plain": [
       "   time  demand_rate  repair_rate  Q_service  Q_repair  R_service  \\\n",
       "0  0.00            1       100000          2         4          2   \n",
       "1  0.01            1       100000          2         4          2   \n",
       "2  0.02            1       100000          2         4          2   \n",
       "3  0.03            1       100000          2         4          2   \n",
       "4  0.04            1       100000          2         4          2   \n",
       "\n",
       "        inventory_type inventory_level  \n",
       "0  service_stock_depot            9.99  \n",
       "1  service_stock_depot            9.98  \n",
       "2  service_stock_depot            9.97  \n",
       "3  service_stock_depot            9.96  \n",
       "4  service_stock_depot            9.95  "
      ]
     },
     "execution_count": 3,
     "metadata": {},
     "output_type": "execute_result"
    }
   ],
   "source": [
    "# Get a feeling for the data\n",
    "sim_dfs.head()\n",
    "\n",
    "# Create long format\n",
    "sim_dfs_long = sim_dfs.melt(value_vars=['service_stock_depot', 'service_stock_position', 'repair_stock_depot',\n",
    "                                        'service_stock_warehouse', 'repair_stock_warehouse'], \n",
    "                            id_vars=['time'] + list(settings.keys()),\n",
    "                            value_name='inventory_level', var_name='inventory_type'\n",
    "                           )\n",
    "sim_dfs_long.head()"
   ]
  },
  {
   "cell_type": "code",
   "execution_count": 4,
   "metadata": {},
   "outputs": [
    {
     "data": {
      "text/plain": [
       "[<matplotlib.lines.Line2D at 0x10b05e750>]"
      ]
     },
     "execution_count": 4,
     "metadata": {},
     "output_type": "execute_result"
    },
    {
     "data": {
      "image/png": "[encoded data removed]",
      "text/plain": [
       "<Figure size 432x288 with 1 Axes>"
      ]
     },
     "metadata": {
      "needs_background": "light"
     },
     "output_type": "display_data"
    }
   ],
   "source": [
    "sim_dfs.to_csv('output.csv')\n",
    "plt.plot(sim_dfs['time'], sim_dfs['service_stock_depot'])"
   ]
  },
  {
   "cell_type": "code",
   "execution_count": 5,
   "metadata": {},
   "outputs": [
    {
     "data": {
      "text/plain": [
       "<seaborn.axisgrid.FacetGrid at 0x1a1e286750>"
      ]
     },
     "execution_count": 5,
     "metadata": {},
     "output_type": "execute_result"
    },
    {
     "data": {
      "image/png": "[encoded data removed]",
      "text/plain": [
       "<Figure size 1242.88x216 with 1 Axes>"
      ]
     },
     "metadata": {
      "needs_background": "light"
     },
     "output_type": "display_data"
    }
   ],
   "source": [
    "# Plot lines over time \n",
    "g = sns.FacetGrid(sim_dfs_long[sim_dfs_long.time >= 0], col='Q_repair', col_wrap=1, hue='inventory_type', aspect=5, sharey=False)\n",
    "\n",
    "# Plot lines\n",
    "g.map(plt.plot, 'time', 'inventory_level').add_legend().set_axis_labels('Time', 'Inventory level')"
   ]
  },
  {
   "cell_type": "markdown",
   "metadata": {},
   "source": [
    "## Compute the average cycle cost\n",
    "\n",
    "In this simple model, we assume that sending a batch from the warehouse to the depot has a cost `c_d` and sending a batch of repairable units from the depot to the warehouse costs `c_r`. In general we have that `c_r` > `c_d`, since the reverse flow is typically less efficient. Besides, set-up costs for orders, a holding costs of `h_d` per unit per unit of time for stock of servicable units at the depot has to be paid. In case of a shortage, a backlogging cost of `b_d` per unit per unit of time is incurred. For now, I do not assume any holding cost for the repairable units."
   ]
  },
  {
   "cell_type": "code",
   "execution_count": 36,
   "metadata": {},
   "outputs": [
    {
     "name": "stdout",
     "output_type": "stream",
     "text": [
      "19.950000000001072\n"
     ]
    }
   ],
   "source": [
    "# Cost structure\n",
    "c_d = 1\n",
    "c_r = 3\n",
    "h_d = 0.02\n",
    "b_d = 0.4\n",
    "\n",
    "# In this case, the cycle length can be easily eye-balled.\n",
    "\n",
    "# Take data for one cycle\n",
    "cycle_data = all_data.query('5 <= time <= 10')\n",
    "\n",
    "# Get all order events\n",
    "depot_events = pd.read_csv('../outputdepot_events.csv', index_col=0).query('5 <= time <= 10')\n",
    "warehouse_events = pd.read_csv('../output/warehouse_events.csv', index_col=0).query('5 <= time <= 10')\n",
    "\n",
    "# Count orders\n",
    "n_order_depot = depot_events.shape[0]\n",
    "n_order_warehouse = warehouse_events.shape[0]\n",
    "\n",
    "# Inventory in numpy\n",
    "depot_stock = cycle_data.depot_service_stock.to_numpy()\n",
    "\n",
    "# Compute costs\n",
    "total_order_costs = n_order_depot * c_r + n_order_warehouse * c_d\n",
    "total_var_costs = depot_stock.clip(min=0).sum() * h_d + np.sum(-depot_stock.clip(max=0)) * b_d\n",
    "\n",
    "print(total_order_costs + total_var_costs)"
   ]
  },
  {
   "cell_type": "markdown",
   "metadata": {},
   "source": [
    "### Average inventory levels per cycle"
   ]
  },
  {
   "cell_type": "code",
   "execution_count": null,
   "metadata": {},
   "outputs": [],
   "source": [
    "cycle_data."
   ]
  }
 ],
 "metadata": {
  "kernelspec": {
   "display_name": "Python 3",
   "language": "python",
   "name": "python3"
  },
  "language_info": {
   "codemirror_mode": {
    "name": "ipython",
    "version": 3
   },
   "file_extension": ".py",
   "mimetype": "text/x-python",
   "name": "python",
   "nbconvert_exporter": "python",
   "pygments_lexer": "ipython3",
   "version": "3.7.4"
  }
 },
 "nbformat": 4,
 "nbformat_minor": 2
}
