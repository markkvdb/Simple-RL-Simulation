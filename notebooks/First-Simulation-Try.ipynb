{
 "cells": [
  {
   "cell_type": "markdown",
   "metadata": {},
   "source": [
    "# Simple Simulation Analysis\n",
    "\n",
    "In this notebook I will analyse the output of a simple simulation. First, I load the output data of the two stations."
   ]
  },
  {
   "cell_type": "code",
   "execution_count": 1,
   "metadata": {},
   "outputs": [
    {
     "data": {
      "text/html": [
       "<div>\n",
       "<style scoped>\n",
       "    .dataframe tbody tr th:only-of-type {\n",
       "        vertical-align: middle;\n",
       "    }\n",
       "\n",
       "    .dataframe tbody tr th {\n",
       "        vertical-align: top;\n",
       "    }\n",
       "\n",
       "    .dataframe thead th {\n",
       "        text-align: right;\n",
       "    }\n",
       "</style>\n",
       "<table border=\"1\" class=\"dataframe\">\n",
       "  <thead>\n",
       "    <tr style=\"text-align: right;\">\n",
       "      <th></th>\n",
       "      <th>service_stock</th>\n",
       "      <th>repair_stock</th>\n",
       "    </tr>\n",
       "  </thead>\n",
       "  <tbody>\n",
       "    <tr>\n",
       "      <th>0</th>\n",
       "      <td>9</td>\n",
       "      <td>1</td>\n",
       "    </tr>\n",
       "    <tr>\n",
       "      <th>1</th>\n",
       "      <td>10</td>\n",
       "      <td>2</td>\n",
       "    </tr>\n",
       "    <tr>\n",
       "      <th>2</th>\n",
       "      <td>11</td>\n",
       "      <td>3</td>\n",
       "    </tr>\n",
       "    <tr>\n",
       "      <th>3</th>\n",
       "      <td>12</td>\n",
       "      <td>4</td>\n",
       "    </tr>\n",
       "    <tr>\n",
       "      <th>4</th>\n",
       "      <td>13</td>\n",
       "      <td>0</td>\n",
       "    </tr>\n",
       "  </tbody>\n",
       "</table>\n",
       "</div>"
      ],
      "text/plain": [
       "   service_stock  repair_stock\n",
       "0              9             1\n",
       "1             10             2\n",
       "2             11             3\n",
       "3             12             4\n",
       "4             13             0"
      ]
     },
     "execution_count": 1,
     "metadata": {},
     "output_type": "execute_result"
    }
   ],
   "source": [
    "%matplotlib inline\n",
    "\n",
    "import numpy as np\n",
    "import matplotlib.pyplot as plt\n",
    "import pandas as pd\n",
    "\n",
    "depot_data = pd.read_csv('../output/depot_output.csv', index_col=0)\n",
    "service_data = pd.read_csv('../output/server_output.csv', index_col=0)\n",
    "\n",
    "depot_data.head()"
   ]
  },
  {
   "cell_type": "markdown",
   "metadata": {},
   "source": [
    "## Visualisation of stock over time\n",
    "\n",
    "The stock levels of the repairable and servicable units are recorded over time. Let's check these."
   ]
  },
  {
   "cell_type": "code",
   "execution_count": 2,
   "metadata": {},
   "outputs": [
    {
     "data": {
      "text/html": [
       "<div>\n",
       "<style scoped>\n",
       "    .dataframe tbody tr th:only-of-type {\n",
       "        vertical-align: middle;\n",
       "    }\n",
       "\n",
       "    .dataframe tbody tr th {\n",
       "        vertical-align: top;\n",
       "    }\n",
       "\n",
       "    .dataframe thead th {\n",
       "        text-align: right;\n",
       "    }\n",
       "</style>\n",
       "<table border=\"1\" class=\"dataframe\">\n",
       "  <thead>\n",
       "    <tr style=\"text-align: right;\">\n",
       "      <th></th>\n",
       "      <th>depot_service_stock</th>\n",
       "      <th>depot_repair_stock</th>\n",
       "      <th>server_service_stock</th>\n",
       "      <th>server_repair_stock</th>\n",
       "      <th>time</th>\n",
       "    </tr>\n",
       "  </thead>\n",
       "  <tbody>\n",
       "    <tr>\n",
       "      <th>0</th>\n",
       "      <td>9</td>\n",
       "      <td>1</td>\n",
       "      <td>0</td>\n",
       "      <td>8</td>\n",
       "      <td>0</td>\n",
       "    </tr>\n",
       "    <tr>\n",
       "      <th>1</th>\n",
       "      <td>10</td>\n",
       "      <td>2</td>\n",
       "      <td>0</td>\n",
       "      <td>6</td>\n",
       "      <td>1</td>\n",
       "    </tr>\n",
       "    <tr>\n",
       "      <th>2</th>\n",
       "      <td>11</td>\n",
       "      <td>3</td>\n",
       "      <td>0</td>\n",
       "      <td>4</td>\n",
       "      <td>2</td>\n",
       "    </tr>\n",
       "    <tr>\n",
       "      <th>3</th>\n",
       "      <td>12</td>\n",
       "      <td>4</td>\n",
       "      <td>0</td>\n",
       "      <td>2</td>\n",
       "      <td>3</td>\n",
       "    </tr>\n",
       "    <tr>\n",
       "      <th>4</th>\n",
       "      <td>13</td>\n",
       "      <td>0</td>\n",
       "      <td>0</td>\n",
       "      <td>5</td>\n",
       "      <td>4</td>\n",
       "    </tr>\n",
       "  </tbody>\n",
       "</table>\n",
       "</div>"
      ],
      "text/plain": [
       "   depot_service_stock  depot_repair_stock  server_service_stock  \\\n",
       "0                    9                   1                     0   \n",
       "1                   10                   2                     0   \n",
       "2                   11                   3                     0   \n",
       "3                   12                   4                     0   \n",
       "4                   13                   0                     0   \n",
       "\n",
       "   server_repair_stock  time  \n",
       "0                    8     0  \n",
       "1                    6     1  \n",
       "2                    4     2  \n",
       "3                    2     3  \n",
       "4                    5     4  "
      ]
     },
     "execution_count": 2,
     "metadata": {},
     "output_type": "execute_result"
    }
   ],
   "source": [
    "# Combine datasets\n",
    "depot_data.columns = 'depot_' + depot_data.columns\n",
    "service_data.columns = \"server_\" + service_data.columns\n",
    "all_data = pd.concat([depot_data, service_data], axis=1)\n",
    "\n",
    "# Add time index\n",
    "all_data['time'] = range(all_data.shape[0])\n",
    "\n",
    "all_data.head()"
   ]
  },
  {
   "cell_type": "code",
   "execution_count": 3,
   "metadata": {},
   "outputs": [
    {
     "data": {
      "text/plain": [
       "<matplotlib.axes._subplots.AxesSubplot at 0x1198c5668>"
      ]
     },
     "execution_count": 3,
     "metadata": {},
     "output_type": "execute_result"
    },
    {
     "data": {
      "image/png": "[encoded data removed]",
      "text/plain": [
       "<Figure size 1440x360 with 1 Axes>"
      ]
     },
     "metadata": {
      "needs_background": "light"
     },
     "output_type": "display_data"
    }
   ],
   "source": [
    "# Plot lines over time \n",
    "all_data[all_data.time > 980].plot(x='time', y=all_data.columns[0:4], figsize=[20, 5])"
   ]
  },
  {
   "cell_type": "markdown",
   "metadata": {},
   "source": [
    "## Compute the average cycle cost\n",
    "\n",
    "In this simple model, we assume that sending a batch from the server to the depot has a cost `c_d` and sending a batch of repairable units from the depot to the server costs `c_r`. In general we have that `c_r` > `c_d`, since the reverse flow is typically less efficient. Besides, set-up costs for orders, a holding costs of `h_d` per unit per unit of time for stock of servicable units at the depot has to be paid. In case of a shortage, a backlogging cost of `b_d` per unit per unit of time is incurred. For now, I do not assume any holding cost for the repairable units."
   ]
  },
  {
   "cell_type": "code",
   "execution_count": 30,
   "metadata": {},
   "outputs": [
    {
     "name": "stdout",
     "output_type": "stream",
     "text": [
      "9.620000000000001\n"
     ]
    }
   ],
   "source": [
    "# Cost structure\n",
    "c_d = 1\n",
    "c_r = 3\n",
    "h_d = 0.02\n",
    "b_d = 0.4\n",
    "\n",
    "# In this case, the cycle length can be easily eye-balled.\n",
    "cycle_len = 4\n",
    "\n",
    "# Take data for one cycle\n",
    "cycle_data = all_data.query('984 <= time <= 988')\n",
    "\n",
    "# Get all order events\n",
    "depot_events = pd.read_csv('../output/depot_events.csv', index_col=0).query('984 <= time <= 988')\n",
    "server_events = pd.read_csv('../output/server_events.csv', index_col=0).query('984 <= time <= 988')\n",
    "\n",
    "# Count orders\n",
    "n_order_depot = depot_events.shape[0]\n",
    "n_order_server = server_events.shape[0]\n",
    "\n",
    "# Inventory in numpy\n",
    "depot_stock = cycle_data.depot_service_stock.to_numpy()\n",
    "\n",
    "# Compute costs\n",
    "total_order_costs = n_order_depot * c_r + n_order_server * c_d\n",
    "total_var_costs = depot_stock.clip(min=0).sum() * h_d + np.sum(-depot_stock.clip(max=0)) * b_d\n",
    "\n",
    "print(total_order_costs + total_var_costs)"
   ]
  }
 ],
 "metadata": {
  "kernelspec": {
   "display_name": "Python 3",
   "language": "python",
   "name": "python3"
  },
  "language_info": {
   "codemirror_mode": {
    "name": "ipython",
    "version": 3
   },
   "file_extension": ".py",
   "mimetype": "text/x-python",
   "name": "python",
   "nbconvert_exporter": "python",
   "pygments_lexer": "ipython3",
   "version": "3.7.3"
  }
 },
 "nbformat": 4,
 "nbformat_minor": 2
}
